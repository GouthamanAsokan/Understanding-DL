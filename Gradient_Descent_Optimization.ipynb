{
  "nbformat": 4,
  "nbformat_minor": 0,
  "metadata": {
    "colab": {
      "provenance": []
    },
    "kernelspec": {
      "name": "python3",
      "display_name": "Python 3"
    },
    "language_info": {
      "name": "python"
    }
  },
  "cells": [
    {
      "cell_type": "code",
      "execution_count": 1,
      "metadata": {
        "id": "U6QIxImYZoL5"
      },
      "outputs": [],
      "source": [
        "# gradient descent algorithm\n",
        "def gradient_descent(objective, derivative, bounds, n_iter, step_size):\n",
        "\t# generate an initial point\n",
        "\tsolution = bounds[:, 0] + rand(len(bounds)) * (bounds[:, 1] - bounds[:, 0])\n",
        "\t# run the gradient descent\n",
        "\tfor i in range(n_iter):\n",
        "\t\t# calculate gradient\n",
        "\t\tgradient = derivative(solution)\n",
        "\t\t# take a step\n",
        "\t\tsolution = solution - step_size * gradient\n",
        "\t\t# evaluate candidate point\n",
        "\t\tsolution_eval = objective(solution)\n",
        "\t\t# report progress\n",
        "\t\tprint('>%d f(%s) = %.5f' % (i, solution, solution_eval))\n",
        "\treturn [solution, solution_eval]"
      ]
    },
    {
      "cell_type": "code",
      "source": [
        "# objective function\n",
        "def objective(x):\n",
        "\treturn x**2.0"
      ],
      "metadata": {
        "id": "Vk9rxQ3qZxJy"
      },
      "execution_count": 2,
      "outputs": []
    },
    {
      "cell_type": "code",
      "source": [
        "# plot of simple function\n",
        "from numpy import arange\n",
        "from matplotlib import pyplot\n",
        "\n",
        "# objective function\n",
        "def objective(x):\n",
        "\treturn x**2.0\n",
        "\n",
        "# define range for input\n",
        "r_min, r_max = -1.0, 1.0\n",
        "# sample input range uniformly at 0.1 increments\n",
        "inputs = arange(r_min, r_max+0.1, 0.1)\n",
        "# compute targets\n",
        "results = objective(inputs)\n",
        "# create a line plot of input vs result\n",
        "pyplot.plot(inputs, results)\n",
        "# show the plot\n",
        "pyplot.show()"
      ],
      "metadata": {
        "colab": {
          "base_uri": "https://localhost:8080/",
          "height": 265
        },
        "id": "Fe-J3WtMZ3lb",
        "outputId": "75558a36-97cf-4190-e8fa-c218cc619deb"
      },
      "execution_count": 3,
      "outputs": [
        {
          "output_type": "display_data",
          "data": {
            "text/plain": [
              "<Figure size 432x288 with 1 Axes>"
            ],
            "image/png": "[encoded data removed]"
          },
          "metadata": {
            "needs_background": "light"
          }
        }
      ]
    },
    {
      "cell_type": "code",
      "source": [
        "# derivative of objective function\n",
        "def derivative(x):\n",
        "\treturn x * 2.0"
      ],
      "metadata": {
        "id": "5PMPx5XgZ-pw"
      },
      "execution_count": 4,
      "outputs": []
    },
    {
      "cell_type": "code",
      "source": [
        "# example of gradient descent for a one-dimensional function\n",
        "from numpy import asarray\n",
        "from numpy.random import rand\n",
        "# define range for input\n",
        "bounds = asarray([[-1.0, 1.0]])\n",
        "# define the total iterations\n",
        "n_iter = 30\n",
        "# define the maximum step size\n",
        "step_size = 0.1\n",
        "# perform the gradient descent search\n",
        "best, score = gradient_descent(objective, derivative, bounds, n_iter, step_size)"
      ],
      "metadata": {
        "colab": {
          "base_uri": "https://localhost:8080/"
        },
        "id": "GI_VJJfVaCGk",
        "outputId": "674ef541-09f5-4769-9a0a-f07f03a2d2c8"
      },
      "execution_count": 5,
      "outputs": [
        {
          "output_type": "stream",
          "name": "stdout",
          "text": [
            ">0 f([-0.58302898]) = 0.33992\n",
            ">1 f([-0.46642318]) = 0.21755\n",
            ">2 f([-0.37313855]) = 0.13923\n",
            ">3 f([-0.29851084]) = 0.08911\n",
            ">4 f([-0.23880867]) = 0.05703\n",
            ">5 f([-0.19104694]) = 0.03650\n",
            ">6 f([-0.15283755]) = 0.02336\n",
            ">7 f([-0.12227004]) = 0.01495\n",
            ">8 f([-0.09781603]) = 0.00957\n",
            ">9 f([-0.07825282]) = 0.00612\n",
            ">10 f([-0.06260226]) = 0.00392\n",
            ">11 f([-0.05008181]) = 0.00251\n",
            ">12 f([-0.04006545]) = 0.00161\n",
            ">13 f([-0.03205236]) = 0.00103\n",
            ">14 f([-0.02564189]) = 0.00066\n",
            ">15 f([-0.02051351]) = 0.00042\n",
            ">16 f([-0.01641081]) = 0.00027\n",
            ">17 f([-0.01312865]) = 0.00017\n",
            ">18 f([-0.01050292]) = 0.00011\n",
            ">19 f([-0.00840233]) = 0.00007\n",
            ">20 f([-0.00672187]) = 0.00005\n",
            ">21 f([-0.00537749]) = 0.00003\n",
            ">22 f([-0.00430199]) = 0.00002\n",
            ">23 f([-0.0034416]) = 0.00001\n",
            ">24 f([-0.00275328]) = 0.00001\n",
            ">25 f([-0.00220262]) = 0.00000\n",
            ">26 f([-0.0017621]) = 0.00000\n",
            ">27 f([-0.00140968]) = 0.00000\n",
            ">28 f([-0.00112774]) = 0.00000\n",
            ">29 f([-0.00090219]) = 0.00000\n"
          ]
        }
      ]
    },
    {
      "cell_type": "code",
      "source": [
        "# increasing the step size\n",
        "from numpy import asarray\n",
        "from numpy.random import rand\n",
        "# define range for input\n",
        "bounds = asarray([[-1.0, 1.0]])\n",
        "# define the total iterations\n",
        "n_iter = 30\n",
        "# define the maximum step size\n",
        "step_size = 1\n",
        "# perform the gradient descent search\n",
        "best, score = gradient_descent(objective, derivative, bounds, n_iter, step_size)"
      ],
      "metadata": {
        "colab": {
          "base_uri": "https://localhost:8080/"
        },
        "id": "MiBEVXT_aStF",
        "outputId": "7562f798-f8a9-42bd-f9a9-198dcdc7ff53"
      },
      "execution_count": 6,
      "outputs": [
        {
          "output_type": "stream",
          "name": "stdout",
          "text": [
            ">0 f([0.91512201]) = 0.83745\n",
            ">1 f([-0.91512201]) = 0.83745\n",
            ">2 f([0.91512201]) = 0.83745\n",
            ">3 f([-0.91512201]) = 0.83745\n",
            ">4 f([0.91512201]) = 0.83745\n",
            ">5 f([-0.91512201]) = 0.83745\n",
            ">6 f([0.91512201]) = 0.83745\n",
            ">7 f([-0.91512201]) = 0.83745\n",
            ">8 f([0.91512201]) = 0.83745\n",
            ">9 f([-0.91512201]) = 0.83745\n",
            ">10 f([0.91512201]) = 0.83745\n",
            ">11 f([-0.91512201]) = 0.83745\n",
            ">12 f([0.91512201]) = 0.83745\n",
            ">13 f([-0.91512201]) = 0.83745\n",
            ">14 f([0.91512201]) = 0.83745\n",
            ">15 f([-0.91512201]) = 0.83745\n",
            ">16 f([0.91512201]) = 0.83745\n",
            ">17 f([-0.91512201]) = 0.83745\n",
            ">18 f([0.91512201]) = 0.83745\n",
            ">19 f([-0.91512201]) = 0.83745\n",
            ">20 f([0.91512201]) = 0.83745\n",
            ">21 f([-0.91512201]) = 0.83745\n",
            ">22 f([0.91512201]) = 0.83745\n",
            ">23 f([-0.91512201]) = 0.83745\n",
            ">24 f([0.91512201]) = 0.83745\n",
            ">25 f([-0.91512201]) = 0.83745\n",
            ">26 f([0.91512201]) = 0.83745\n",
            ">27 f([-0.91512201]) = 0.83745\n",
            ">28 f([0.91512201]) = 0.83745\n",
            ">29 f([-0.91512201]) = 0.83745\n"
          ]
        }
      ]
    },
    {
      "cell_type": "code",
      "source": [
        "# decreasing the step size\n",
        "from numpy import asarray\n",
        "from numpy.random import rand\n",
        "# define range for input\n",
        "bounds = asarray([[-1.0, 1.0]])\n",
        "# define the total iterations\n",
        "n_iter = 30\n",
        "# define the maximum step size\n",
        "step_size = 1e-5\n",
        "# perform the gradient descent search\n",
        "best, score = gradient_descent(objective, derivative, bounds, n_iter, step_size)"
      ],
      "metadata": {
        "colab": {
          "base_uri": "https://localhost:8080/"
        },
        "id": "GvviDiL_aggH",
        "outputId": "05cc5849-2b82-4d99-ce93-16a93d36bf22"
      },
      "execution_count": 7,
      "outputs": [
        {
          "output_type": "stream",
          "name": "stdout",
          "text": [
            ">0 f([-0.06037131]) = 0.00364\n",
            ">1 f([-0.0603701]) = 0.00364\n",
            ">2 f([-0.06036889]) = 0.00364\n",
            ">3 f([-0.06036769]) = 0.00364\n",
            ">4 f([-0.06036648]) = 0.00364\n",
            ">5 f([-0.06036527]) = 0.00364\n",
            ">6 f([-0.06036407]) = 0.00364\n",
            ">7 f([-0.06036286]) = 0.00364\n",
            ">8 f([-0.06036165]) = 0.00364\n",
            ">9 f([-0.06036044]) = 0.00364\n",
            ">10 f([-0.06035924]) = 0.00364\n",
            ">11 f([-0.06035803]) = 0.00364\n",
            ">12 f([-0.06035682]) = 0.00364\n",
            ">13 f([-0.06035561]) = 0.00364\n",
            ">14 f([-0.06035441]) = 0.00364\n",
            ">15 f([-0.0603532]) = 0.00364\n",
            ">16 f([-0.06035199]) = 0.00364\n",
            ">17 f([-0.06035079]) = 0.00364\n",
            ">18 f([-0.06034958]) = 0.00364\n",
            ">19 f([-0.06034837]) = 0.00364\n",
            ">20 f([-0.06034717]) = 0.00364\n",
            ">21 f([-0.06034596]) = 0.00364\n",
            ">22 f([-0.06034475]) = 0.00364\n",
            ">23 f([-0.06034354]) = 0.00364\n",
            ">24 f([-0.06034234]) = 0.00364\n",
            ">25 f([-0.06034113]) = 0.00364\n",
            ">26 f([-0.06033992]) = 0.00364\n",
            ">27 f([-0.06033872]) = 0.00364\n",
            ">28 f([-0.06033751]) = 0.00364\n",
            ">29 f([-0.0603363]) = 0.00364\n"
          ]
        }
      ]
    },
    {
      "cell_type": "code",
      "source": [
        "# example of plotting a gradient descent search on a one-dimensional function\n",
        "from numpy import asarray\n",
        "from numpy import arange\n",
        "from numpy.random import rand\n",
        "from matplotlib import pyplot\n",
        "\n",
        "# objective function\n",
        "def objective(x):\n",
        "\treturn x**2.0\n",
        "\n",
        "# derivative of objective function\n",
        "def derivative(x):\n",
        "\treturn x * 2.0\n",
        "\n",
        "# gradient descent algorithm\n",
        "def gradient_descent(objective, derivative, bounds, n_iter, step_size):\n",
        "\t# track all solutions\n",
        "\tsolutions, scores = list(), list()\n",
        "\t# generate an initial point\n",
        "\tsolution = bounds[:, 0] + rand(len(bounds)) * (bounds[:, 1] - bounds[:, 0])\n",
        "\t# run the gradient descent\n",
        "\tfor i in range(n_iter):\n",
        "\t\t# calculate gradient\n",
        "\t\tgradient = derivative(solution)\n",
        "\t\t# take a step\n",
        "\t\tsolution = solution - step_size * gradient\n",
        "\t\t# evaluate candidate point\n",
        "\t\tsolution_eval = objective(solution)\n",
        "\t\t# store solution\n",
        "\t\tsolutions.append(solution)\n",
        "\t\tscores.append(solution_eval)\n",
        "\t\t# report progress\n",
        "\t\tprint('>%d f(%s) = %.5f' % (i, solution, solution_eval))\n",
        "\treturn [solutions, scores]\n",
        "\n",
        "# define range for input\n",
        "bounds = asarray([[-1.0, 1.0]])\n",
        "# define the total iterations\n",
        "n_iter = 30\n",
        "# define the step size\n",
        "step_size = 0.1\n",
        "# perform the gradient descent search\n",
        "solutions, scores = gradient_descent(objective, derivative, bounds, n_iter, step_size)\n",
        "# sample input range uniformly at 0.1 increments\n",
        "inputs = arange(bounds[0,0], bounds[0,1]+0.1, 0.1)\n",
        "# compute targets\n",
        "results = objective(inputs)\n",
        "# create a line plot of input vs result\n",
        "pyplot.plot(inputs, results)\n",
        "# plot the solutions found\n",
        "pyplot.plot(solutions, scores, '.-', color='red')\n",
        "# show the plot\n",
        "pyplot.show()"
      ],
      "metadata": {
        "colab": {
          "base_uri": "https://localhost:8080/",
          "height": 786
        },
        "id": "ntSwo-vCaxbZ",
        "outputId": "937931de-bc52-4551-9a88-630aebf76a82"
      },
      "execution_count": 8,
      "outputs": [
        {
          "output_type": "stream",
          "name": "stdout",
          "text": [
            ">0 f([0.14905412]) = 0.02222\n",
            ">1 f([0.1192433]) = 0.01422\n",
            ">2 f([0.09539464]) = 0.00910\n",
            ">3 f([0.07631571]) = 0.00582\n",
            ">4 f([0.06105257]) = 0.00373\n",
            ">5 f([0.04884206]) = 0.00239\n",
            ">6 f([0.03907364]) = 0.00153\n",
            ">7 f([0.03125892]) = 0.00098\n",
            ">8 f([0.02500713]) = 0.00063\n",
            ">9 f([0.02000571]) = 0.00040\n",
            ">10 f([0.01600456]) = 0.00026\n",
            ">11 f([0.01280365]) = 0.00016\n",
            ">12 f([0.01024292]) = 0.00010\n",
            ">13 f([0.00819434]) = 0.00007\n",
            ">14 f([0.00655547]) = 0.00004\n",
            ">15 f([0.00524438]) = 0.00003\n",
            ">16 f([0.0041955]) = 0.00002\n",
            ">17 f([0.0033564]) = 0.00001\n",
            ">18 f([0.00268512]) = 0.00001\n",
            ">19 f([0.0021481]) = 0.00000\n",
            ">20 f([0.00171848]) = 0.00000\n",
            ">21 f([0.00137478]) = 0.00000\n",
            ">22 f([0.00109983]) = 0.00000\n",
            ">23 f([0.00087986]) = 0.00000\n",
            ">24 f([0.00070389]) = 0.00000\n",
            ">25 f([0.00056311]) = 0.00000\n",
            ">26 f([0.00045049]) = 0.00000\n",
            ">27 f([0.00036039]) = 0.00000\n",
            ">28 f([0.00028831]) = 0.00000\n",
            ">29 f([0.00023065]) = 0.00000\n"
          ]
        },
        {
          "output_type": "display_data",
          "data": {
            "text/plain": [
              "<Figure size 432x288 with 1 Axes>"
            ],
            "image/png": "[encoded data removed]"
          },
          "metadata": {
            "needs_background": "light"
          }
        }
      ]
    }
  ]
}